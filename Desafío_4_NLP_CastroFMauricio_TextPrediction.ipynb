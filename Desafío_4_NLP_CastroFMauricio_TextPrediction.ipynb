{
  "cells": [
    {
      "cell_type": "markdown",
      "metadata": {
        "id": "view-in-github",
        "colab_type": "text"
      },
      "source": [
        "<a href=\"https://colab.research.google.com/github/MauricioCastroF/NLP-desafios/blob/main/Desaf%C3%ADo_4_NLP_CastroFMauricio_TextPrediction.ipynb\" target=\"_parent\"><img src=\"https://colab.research.google.com/assets/colab-badge.svg\" alt=\"Open In Colab\"/></a>"
      ]
    },
    {
      "cell_type": "markdown",
      "metadata": {
        "id": "g3yeJGnCYxuF"
      },
      "source": [
        "## Predicción de próxima palabra"
      ]
    },
    {
      "cell_type": "code",
      "execution_count": 1,
      "metadata": {
        "id": "Y-QdFbHZYj7C"
      },
      "outputs": [],
      "source": [
        "import random\n",
        "import io\n",
        "import pickle\n",
        "\n",
        "import numpy as np\n",
        "import pandas as pd\n",
        "\n",
        "from tensorflow import keras\n",
        "from tensorflow.keras import layers\n",
        "from keras.utils.np_utils import to_categorical\n",
        "from keras.models import Sequential\n",
        "from keras.layers import Dense, LSTM, Embedding, Dropout"
      ]
    },
    {
      "cell_type": "markdown",
      "metadata": {
        "id": "xTvXlEKQZdqx"
      },
      "source": [
        "### Datos\n",
        "Utilizaremos como dataset de un cuento de Gabriel García Marquez"
      ]
    },
    {
      "cell_type": "code",
      "execution_count": 2,
      "metadata": {
        "colab": {
          "base_uri": "https://localhost:8080/",
          "height": 262
        },
        "id": "Gb39v3PaZmRH",
        "outputId": "b967cf61-7858-4638-fca3-03303e118f3e"
      },
      "outputs": [
        {
          "output_type": "stream",
          "name": "stderr",
          "text": [
            "<ipython-input-2-0d51fe0837c7>:2: ParserWarning: Falling back to the 'python' engine because the 'c' engine does not support regex separators (separators > 1 char and different from '\\s+' are interpreted as regex); you can avoid this warning by specifying engine='python'.\n",
            "  df = pd.read_csv('/content/sample_data/gabo.txt', sep='/n', header=None)\n"
          ]
        },
        {
          "output_type": "execute_result",
          "data": {
            "text/plain": [
              "                                                   0\n",
              "0  Imagínese usted un pueblo muy pequeño donde ha...\n",
              "1  No sé, pero he amanecido con el presentimiento...\n",
              "2  Ellos se ríen de la madre. Dicen que esos son ...\n",
              "3              Te apuesto un peso a que no la haces.\n",
              "4  Todos se ríen. Él se ríe. Tira la carambola y ..."
            ],
            "text/html": [
              "\n",
              "  <div id=\"df-8508b5aa-5b85-459f-80d3-875dbbe8a1df\">\n",
              "    <div class=\"colab-df-container\">\n",
              "      <div>\n",
              "<style scoped>\n",
              "    .dataframe tbody tr th:only-of-type {\n",
              "        vertical-align: middle;\n",
              "    }\n",
              "\n",
              "    .dataframe tbody tr th {\n",
              "        vertical-align: top;\n",
              "    }\n",
              "\n",
              "    .dataframe thead th {\n",
              "        text-align: right;\n",
              "    }\n",
              "</style>\n",
              "<table border=\"1\" class=\"dataframe\">\n",
              "  <thead>\n",
              "    <tr style=\"text-align: right;\">\n",
              "      <th></th>\n",
              "      <th>0</th>\n",
              "    </tr>\n",
              "  </thead>\n",
              "  <tbody>\n",
              "    <tr>\n",
              "      <th>0</th>\n",
              "      <td>Imagínese usted un pueblo muy pequeño donde ha...</td>\n",
              "    </tr>\n",
              "    <tr>\n",
              "      <th>1</th>\n",
              "      <td>No sé, pero he amanecido con el presentimiento...</td>\n",
              "    </tr>\n",
              "    <tr>\n",
              "      <th>2</th>\n",
              "      <td>Ellos se ríen de la madre. Dicen que esos son ...</td>\n",
              "    </tr>\n",
              "    <tr>\n",
              "      <th>3</th>\n",
              "      <td>Te apuesto un peso a que no la haces.</td>\n",
              "    </tr>\n",
              "    <tr>\n",
              "      <th>4</th>\n",
              "      <td>Todos se ríen. Él se ríe. Tira la carambola y ...</td>\n",
              "    </tr>\n",
              "  </tbody>\n",
              "</table>\n",
              "</div>\n",
              "      <button class=\"colab-df-convert\" onclick=\"convertToInteractive('df-8508b5aa-5b85-459f-80d3-875dbbe8a1df')\"\n",
              "              title=\"Convert this dataframe to an interactive table.\"\n",
              "              style=\"display:none;\">\n",
              "        \n",
              "  <svg xmlns=\"http://www.w3.org/2000/svg\" height=\"24px\"viewBox=\"0 0 24 24\"\n",
              "       width=\"24px\">\n",
              "    <path d=\"M0 0h24v24H0V0z\" fill=\"none\"/>\n",
              "    <path d=\"M18.56 5.44l.94 2.06.94-2.06 2.06-.94-2.06-.94-.94-2.06-.94 2.06-2.06.94zm-11 1L8.5 8.5l.94-2.06 2.06-.94-2.06-.94L8.5 2.5l-.94 2.06-2.06.94zm10 10l.94 2.06.94-2.06 2.06-.94-2.06-.94-.94-2.06-.94 2.06-2.06.94z\"/><path d=\"M17.41 7.96l-1.37-1.37c-.4-.4-.92-.59-1.43-.59-.52 0-1.04.2-1.43.59L10.3 9.45l-7.72 7.72c-.78.78-.78 2.05 0 2.83L4 21.41c.39.39.9.59 1.41.59.51 0 1.02-.2 1.41-.59l7.78-7.78 2.81-2.81c.8-.78.8-2.07 0-2.86zM5.41 20L4 18.59l7.72-7.72 1.47 1.35L5.41 20z\"/>\n",
              "  </svg>\n",
              "      </button>\n",
              "      \n",
              "  <style>\n",
              "    .colab-df-container {\n",
              "      display:flex;\n",
              "      flex-wrap:wrap;\n",
              "      gap: 12px;\n",
              "    }\n",
              "\n",
              "    .colab-df-convert {\n",
              "      background-color: #E8F0FE;\n",
              "      border: none;\n",
              "      border-radius: 50%;\n",
              "      cursor: pointer;\n",
              "      display: none;\n",
              "      fill: #1967D2;\n",
              "      height: 32px;\n",
              "      padding: 0 0 0 0;\n",
              "      width: 32px;\n",
              "    }\n",
              "\n",
              "    .colab-df-convert:hover {\n",
              "      background-color: #E2EBFA;\n",
              "      box-shadow: 0px 1px 2px rgba(60, 64, 67, 0.3), 0px 1px 3px 1px rgba(60, 64, 67, 0.15);\n",
              "      fill: #174EA6;\n",
              "    }\n",
              "\n",
              "    [theme=dark] .colab-df-convert {\n",
              "      background-color: #3B4455;\n",
              "      fill: #D2E3FC;\n",
              "    }\n",
              "\n",
              "    [theme=dark] .colab-df-convert:hover {\n",
              "      background-color: #434B5C;\n",
              "      box-shadow: 0px 1px 3px 1px rgba(0, 0, 0, 0.15);\n",
              "      filter: drop-shadow(0px 1px 2px rgba(0, 0, 0, 0.3));\n",
              "      fill: #FFFFFF;\n",
              "    }\n",
              "  </style>\n",
              "\n",
              "      <script>\n",
              "        const buttonEl =\n",
              "          document.querySelector('#df-8508b5aa-5b85-459f-80d3-875dbbe8a1df button.colab-df-convert');\n",
              "        buttonEl.style.display =\n",
              "          google.colab.kernel.accessAllowed ? 'block' : 'none';\n",
              "\n",
              "        async function convertToInteractive(key) {\n",
              "          const element = document.querySelector('#df-8508b5aa-5b85-459f-80d3-875dbbe8a1df');\n",
              "          const dataTable =\n",
              "            await google.colab.kernel.invokeFunction('convertToInteractive',\n",
              "                                                     [key], {});\n",
              "          if (!dataTable) return;\n",
              "\n",
              "          const docLinkHtml = 'Like what you see? Visit the ' +\n",
              "            '<a target=\"_blank\" href=https://colab.research.google.com/notebooks/data_table.ipynb>data table notebook</a>'\n",
              "            + ' to learn more about interactive tables.';\n",
              "          element.innerHTML = '';\n",
              "          dataTable['output_type'] = 'display_data';\n",
              "          await google.colab.output.renderOutput(dataTable, element);\n",
              "          const docLink = document.createElement('div');\n",
              "          docLink.innerHTML = docLinkHtml;\n",
              "          element.appendChild(docLink);\n",
              "        }\n",
              "      </script>\n",
              "    </div>\n",
              "  </div>\n",
              "  "
            ]
          },
          "metadata": {},
          "execution_count": 2
        }
      ],
      "source": [
        "# Armar el dataset utilizando salto de línea para separar las oraciones/docs\n",
        "df = pd.read_csv('/content/sample_data/gabo.txt', sep='/n', header=None)\n",
        "df.head()"
      ]
    },
    {
      "cell_type": "code",
      "execution_count": 3,
      "metadata": {
        "colab": {
          "base_uri": "https://localhost:8080/"
        },
        "id": "riT898QlZnmF",
        "outputId": "1360f933-3d8b-481f-f678-07db1003695f"
      },
      "outputs": [
        {
          "output_type": "stream",
          "name": "stdout",
          "text": [
            "Cantidad de documentos: 39\n"
          ]
        }
      ],
      "source": [
        "print(\"Cantidad de documentos:\", df.shape[0])"
      ]
    },
    {
      "cell_type": "markdown",
      "metadata": {
        "id": "RDoouHp7Zp6D"
      },
      "source": [
        "### 1 - Ejemplo de Preprocesamiento\n",
        "- Hay que transformar las oraciones en tokens.\n",
        "- Dichas oraciones hay que ajustarlas al tamaño fijo de nuestra sentencia de entrada al modelo.\n",
        "- Hay que separar las palabras objetivos (target) que el modelo debe predecir en cada sentencia armada."
      ]
    },
    {
      "cell_type": "code",
      "execution_count": 4,
      "metadata": {
        "id": "m5FeTaGvbDbw"
      },
      "outputs": [],
      "source": [
        "from keras.preprocessing.text import Tokenizer # equivalente a ltokenizer de nltk\n",
        "from keras.preprocessing.text import text_to_word_sequence # equivalente a word_tokenize de nltk\n",
        "from keras.utils import pad_sequences # se utilizará para padding\n",
        "\n",
        "# largo de la secuencia, incluye seq input + word output\n",
        "train_len = 4"
      ]
    },
    {
      "cell_type": "code",
      "execution_count": 5,
      "metadata": {
        "colab": {
          "base_uri": "https://localhost:8080/",
          "height": 54
        },
        "id": "Zf3O7eK6ZpP8",
        "outputId": "601fe426-567c-4df8-e9ff-9a1f6eb2c901"
      },
      "outputs": [
        {
          "output_type": "execute_result",
          "data": {
            "text/plain": [
              "'Imagínese usted un pueblo muy pequeño donde hay una señora vieja que tiene dos hijos, uno de 17 y una hija de 14. Está sirviéndoles el desayuno y tiene una expresión de preocupación. Los hijos le preguntan qué le pasa y ella les responde:'"
            ],
            "application/vnd.google.colaboratory.intrinsic+json": {
              "type": "string"
            }
          },
          "metadata": {},
          "execution_count": 5
        }
      ],
      "source": [
        "# Ejemplo de como transformar una oración a tokens usando keras\n",
        "text = df.loc[0,0]\n",
        "text"
      ]
    },
    {
      "cell_type": "code",
      "execution_count": 6,
      "metadata": {
        "colab": {
          "base_uri": "https://localhost:8080/"
        },
        "id": "AOv67Sj7aeFH",
        "outputId": "c9da382e-1029-4189-9401-6285a8b471d3"
      },
      "outputs": [
        {
          "output_type": "execute_result",
          "data": {
            "text/plain": [
              "['imagínese',\n",
              " 'usted',\n",
              " 'un',\n",
              " 'pueblo',\n",
              " 'muy',\n",
              " 'pequeño',\n",
              " 'donde',\n",
              " 'hay',\n",
              " 'una',\n",
              " 'señora',\n",
              " 'vieja',\n",
              " 'que',\n",
              " 'tiene',\n",
              " 'dos',\n",
              " 'hijos',\n",
              " 'uno',\n",
              " 'de',\n",
              " '17',\n",
              " 'y',\n",
              " 'una',\n",
              " 'hija',\n",
              " 'de',\n",
              " '14',\n",
              " 'está',\n",
              " 'sirviéndoles',\n",
              " 'el',\n",
              " 'desayuno',\n",
              " 'y',\n",
              " 'tiene',\n",
              " 'una',\n",
              " 'expresión',\n",
              " 'de',\n",
              " 'preocupación',\n",
              " 'los',\n",
              " 'hijos',\n",
              " 'le',\n",
              " 'preguntan',\n",
              " 'qué',\n",
              " 'le',\n",
              " 'pasa',\n",
              " 'y',\n",
              " 'ella',\n",
              " 'les',\n",
              " 'responde']"
            ]
          },
          "metadata": {},
          "execution_count": 6
        }
      ],
      "source": [
        "tokens = text_to_word_sequence(text) # entran oraciones -> salen vectores de N posiciones (tokens)\n",
        "tokens"
      ]
    },
    {
      "cell_type": "markdown",
      "metadata": {
        "id": "ZrlyqkoiaymK"
      },
      "source": [
        "1.1 - Transformar las oraciones en secuencias (tokens) de palabras"
      ]
    },
    {
      "cell_type": "code",
      "execution_count": 7,
      "metadata": {
        "id": "XH_L14Wjaowe"
      },
      "outputs": [],
      "source": [
        "# Recorrer todas las filas y transformar las oraciones\n",
        "# en secuencias de palabras\n",
        "sentence_tokens = []\n",
        "for _, row in df[:None].iterrows():\n",
        "    sentence_tokens.append(text_to_word_sequence(row[0]))"
      ]
    },
    {
      "cell_type": "code",
      "execution_count": 8,
      "metadata": {
        "colab": {
          "base_uri": "https://localhost:8080/"
        },
        "id": "KASzU4CdaxbZ",
        "outputId": "96584c9b-38cc-4324-ece7-8fa46dcdb3e4"
      },
      "outputs": [
        {
          "output_type": "execute_result",
          "data": {
            "text/plain": [
              "[['imagínese',\n",
              "  'usted',\n",
              "  'un',\n",
              "  'pueblo',\n",
              "  'muy',\n",
              "  'pequeño',\n",
              "  'donde',\n",
              "  'hay',\n",
              "  'una',\n",
              "  'señora',\n",
              "  'vieja',\n",
              "  'que',\n",
              "  'tiene',\n",
              "  'dos',\n",
              "  'hijos',\n",
              "  'uno',\n",
              "  'de',\n",
              "  '17',\n",
              "  'y',\n",
              "  'una',\n",
              "  'hija',\n",
              "  'de',\n",
              "  '14',\n",
              "  'está',\n",
              "  'sirviéndoles',\n",
              "  'el',\n",
              "  'desayuno',\n",
              "  'y',\n",
              "  'tiene',\n",
              "  'una',\n",
              "  'expresión',\n",
              "  'de',\n",
              "  'preocupación',\n",
              "  'los',\n",
              "  'hijos',\n",
              "  'le',\n",
              "  'preguntan',\n",
              "  'qué',\n",
              "  'le',\n",
              "  'pasa',\n",
              "  'y',\n",
              "  'ella',\n",
              "  'les',\n",
              "  'responde'],\n",
              " ['no',\n",
              "  'sé',\n",
              "  'pero',\n",
              "  'he',\n",
              "  'amanecido',\n",
              "  'con',\n",
              "  'el',\n",
              "  'presentimiento',\n",
              "  'de',\n",
              "  'que',\n",
              "  'algo',\n",
              "  'muy',\n",
              "  'grave',\n",
              "  'va',\n",
              "  'a',\n",
              "  'sucederle',\n",
              "  'a',\n",
              "  'este',\n",
              "  'pueblo']]"
            ]
          },
          "metadata": {},
          "execution_count": 8
        }
      ],
      "source": [
        "# Demos un vistazo\n",
        "sentence_tokens[:2]"
      ]
    },
    {
      "cell_type": "code",
      "execution_count": 9,
      "metadata": {
        "id": "A659lswTbIIB"
      },
      "outputs": [],
      "source": [
        "# Código para hacer el desfasaje de las palabras\n",
        "# según el train_len\n",
        "text_sequences = []\n",
        "\n",
        "for i in range(train_len, len(tokens)):\n",
        "  seq = tokens[i-train_len:i]\n",
        "  text_sequences.append(seq)"
      ]
    },
    {
      "cell_type": "code",
      "execution_count": 10,
      "metadata": {
        "colab": {
          "base_uri": "https://localhost:8080/"
        },
        "id": "01JEoPPnbgRF",
        "outputId": "30893a80-c6e3-4db8-a001-34461c086277"
      },
      "outputs": [
        {
          "output_type": "execute_result",
          "data": {
            "text/plain": [
              "[['imagínese', 'usted', 'un', 'pueblo'],\n",
              " ['usted', 'un', 'pueblo', 'muy'],\n",
              " ['un', 'pueblo', 'muy', 'pequeño'],\n",
              " ['pueblo', 'muy', 'pequeño', 'donde'],\n",
              " ['muy', 'pequeño', 'donde', 'hay'],\n",
              " ['pequeño', 'donde', 'hay', 'una'],\n",
              " ['donde', 'hay', 'una', 'señora'],\n",
              " ['hay', 'una', 'señora', 'vieja'],\n",
              " ['una', 'señora', 'vieja', 'que'],\n",
              " ['señora', 'vieja', 'que', 'tiene'],\n",
              " ['vieja', 'que', 'tiene', 'dos'],\n",
              " ['que', 'tiene', 'dos', 'hijos'],\n",
              " ['tiene', 'dos', 'hijos', 'uno'],\n",
              " ['dos', 'hijos', 'uno', 'de'],\n",
              " ['hijos', 'uno', 'de', '17'],\n",
              " ['uno', 'de', '17', 'y'],\n",
              " ['de', '17', 'y', 'una'],\n",
              " ['17', 'y', 'una', 'hija'],\n",
              " ['y', 'una', 'hija', 'de'],\n",
              " ['una', 'hija', 'de', '14'],\n",
              " ['hija', 'de', '14', 'está'],\n",
              " ['de', '14', 'está', 'sirviéndoles'],\n",
              " ['14', 'está', 'sirviéndoles', 'el'],\n",
              " ['está', 'sirviéndoles', 'el', 'desayuno'],\n",
              " ['sirviéndoles', 'el', 'desayuno', 'y'],\n",
              " ['el', 'desayuno', 'y', 'tiene'],\n",
              " ['desayuno', 'y', 'tiene', 'una'],\n",
              " ['y', 'tiene', 'una', 'expresión'],\n",
              " ['tiene', 'una', 'expresión', 'de'],\n",
              " ['una', 'expresión', 'de', 'preocupación'],\n",
              " ['expresión', 'de', 'preocupación', 'los'],\n",
              " ['de', 'preocupación', 'los', 'hijos'],\n",
              " ['preocupación', 'los', 'hijos', 'le'],\n",
              " ['los', 'hijos', 'le', 'preguntan'],\n",
              " ['hijos', 'le', 'preguntan', 'qué'],\n",
              " ['le', 'preguntan', 'qué', 'le'],\n",
              " ['preguntan', 'qué', 'le', 'pasa'],\n",
              " ['qué', 'le', 'pasa', 'y'],\n",
              " ['le', 'pasa', 'y', 'ella'],\n",
              " ['pasa', 'y', 'ella', 'les']]"
            ]
          },
          "metadata": {},
          "execution_count": 10
        }
      ],
      "source": [
        "# Demos un vistazo a nuestros vectores para entrenar el modelo\n",
        "text_sequences"
      ]
    },
    {
      "cell_type": "markdown",
      "metadata": {
        "id": "4B0gHnKVa4W_"
      },
      "source": [
        "1.2 - Crear los vectores de palabras (word2vec)\n",
        "\n",
        "Ahora necesitamos pasarlos a números para que lo entienda la red y separar input de output.\n",
        "- El Input seran integers (word2vec)\n",
        "- Mientras que el output será one hot encodeado (labels) del tamaño del vocabulario"
      ]
    },
    {
      "cell_type": "code",
      "execution_count": 11,
      "metadata": {
        "id": "fkPNvXeQcS0U"
      },
      "outputs": [],
      "source": [
        "tok = Tokenizer()\n",
        "tok.fit_on_texts(text_sequences)\n",
        "sequences = tok.texts_to_sequences(text_sequences)"
      ]
    },
    {
      "cell_type": "code",
      "execution_count": 12,
      "metadata": {
        "colab": {
          "base_uri": "https://localhost:8080/"
        },
        "id": "4SIc44IocyQb",
        "outputId": "a5af511e-397c-4e71-d7a4-d0c39c93a8b7"
      },
      "outputs": [
        {
          "output_type": "execute_result",
          "data": {
            "text/plain": [
              "[[33, 31, 30, 7],\n",
              " [31, 30, 7, 8],\n",
              " [30, 7, 8, 9],\n",
              " [7, 8, 9, 10],\n",
              " [8, 9, 10, 11],\n",
              " [9, 10, 11, 1],\n",
              " [10, 11, 1, 12],\n",
              " [11, 1, 12, 13],\n",
              " [1, 12, 13, 14],\n",
              " [12, 13, 14, 4],\n",
              " [13, 14, 4, 15],\n",
              " [14, 4, 15, 5],\n",
              " [4, 15, 5, 16],\n",
              " [15, 5, 16, 2],\n",
              " [5, 16, 2, 17],\n",
              " [16, 2, 17, 3],\n",
              " [2, 17, 3, 1],\n",
              " [17, 3, 1, 18],\n",
              " [3, 1, 18, 2],\n",
              " [1, 18, 2, 19],\n",
              " [18, 2, 19, 20],\n",
              " [2, 19, 20, 21],\n",
              " [19, 20, 21, 22],\n",
              " [20, 21, 22, 23],\n",
              " [21, 22, 23, 3],\n",
              " [22, 23, 3, 4],\n",
              " [23, 3, 4, 1],\n",
              " [3, 4, 1, 24],\n",
              " [4, 1, 24, 2],\n",
              " [1, 24, 2, 25],\n",
              " [24, 2, 25, 26],\n",
              " [2, 25, 26, 5],\n",
              " [25, 26, 5, 6],\n",
              " [26, 5, 6, 27],\n",
              " [5, 6, 27, 28],\n",
              " [6, 27, 28, 6],\n",
              " [27, 28, 6, 29],\n",
              " [28, 6, 29, 3],\n",
              " [6, 29, 3, 32],\n",
              " [29, 3, 32, 34]]"
            ]
          },
          "metadata": {},
          "execution_count": 12
        }
      ],
      "source": [
        "sequences"
      ]
    },
    {
      "cell_type": "code",
      "execution_count": 13,
      "metadata": {
        "colab": {
          "base_uri": "https://localhost:8080/"
        },
        "id": "3ro81yCQc1oX",
        "outputId": "66fe13e5-afc2-4ca7-e663-225313d1cde5"
      },
      "outputs": [
        {
          "output_type": "stream",
          "name": "stdout",
          "text": [
            "40\n"
          ]
        }
      ],
      "source": [
        "print(tok.document_count)"
      ]
    },
    {
      "cell_type": "code",
      "execution_count": 14,
      "metadata": {
        "colab": {
          "base_uri": "https://localhost:8080/"
        },
        "id": "nzAWNfroc4u1",
        "outputId": "dad0bdbd-9c6c-4f1d-fa76-5239e8ce4594"
      },
      "outputs": [
        {
          "output_type": "stream",
          "name": "stdout",
          "text": [
            "34\n"
          ]
        }
      ],
      "source": [
        "print(len(tok.word_counts))"
      ]
    },
    {
      "cell_type": "code",
      "execution_count": 15,
      "metadata": {
        "colab": {
          "base_uri": "https://localhost:8080/"
        },
        "id": "spTBxmFQc6h8",
        "outputId": "76b59424-29c0-425d-e1c2-b5da0d53a2ce"
      },
      "outputs": [
        {
          "output_type": "stream",
          "name": "stdout",
          "text": [
            "{'una': 1, 'de': 2, 'y': 3, 'tiene': 4, 'hijos': 5, 'le': 6, 'pueblo': 7, 'muy': 8, 'pequeño': 9, 'donde': 10, 'hay': 11, 'señora': 12, 'vieja': 13, 'que': 14, 'dos': 15, 'uno': 16, '17': 17, 'hija': 18, '14': 19, 'está': 20, 'sirviéndoles': 21, 'el': 22, 'desayuno': 23, 'expresión': 24, 'preocupación': 25, 'los': 26, 'preguntan': 27, 'qué': 28, 'pasa': 29, 'un': 30, 'usted': 31, 'ella': 32, 'imagínese': 33, 'les': 34}\n"
          ]
        }
      ],
      "source": [
        "print(tok.word_index)"
      ]
    },
    {
      "cell_type": "code",
      "execution_count": 16,
      "metadata": {
        "colab": {
          "base_uri": "https://localhost:8080/"
        },
        "id": "nUDkjy80c77h",
        "outputId": "82ba21a4-4e9a-4170-fb71-5b8407783ca0"
      },
      "outputs": [
        {
          "output_type": "stream",
          "name": "stdout",
          "text": [
            "defaultdict(<class 'int'>, {'usted': 2, 'un': 3, 'imagínese': 1, 'pueblo': 4, 'muy': 4, 'pequeño': 4, 'donde': 4, 'hay': 4, 'una': 12, 'señora': 4, 'vieja': 4, 'que': 4, 'tiene': 8, 'dos': 4, 'hijos': 8, 'uno': 4, 'de': 12, '17': 4, 'y': 11, 'hija': 4, '14': 4, 'está': 4, 'sirviéndoles': 4, 'el': 4, 'desayuno': 4, 'expresión': 4, 'preocupación': 4, 'los': 4, 'le': 7, 'preguntan': 4, 'qué': 4, 'pasa': 4, 'ella': 2, 'les': 1})\n"
          ]
        }
      ],
      "source": [
        "print(tok.word_docs)"
      ]
    },
    {
      "cell_type": "markdown",
      "metadata": {
        "id": "ohS5Tao1d2KB"
      },
      "source": [
        "### 2 - Preprocesamiento completo\n",
        "Debemos realizar los mismos pasos que en el ejemplo anterior, pero antes de eso debemos transformar ese dataset de filas de oraciones en un texto completo continuo para poder extraer el vocabulario."
      ]
    },
    {
      "cell_type": "code",
      "execution_count": 18,
      "metadata": {
        "colab": {
          "base_uri": "https://localhost:8080/"
        },
        "id": "63Z2-Se2t27r",
        "outputId": "e052260d-40fe-455e-d336-d74d7adcf1f1"
      },
      "outputs": [
        {
          "output_type": "execute_result",
          "data": {
            "text/plain": [
              "0     Imagínese usted un pueblo muy pequeño donde ha...\n",
              "1     No sé, pero he amanecido con el presentimiento...\n",
              "2     Ellos se ríen de la madre. Dicen que esos son ...\n",
              "3                 Te apuesto un peso a que no la haces.\n",
              "4     Todos se ríen. Él se ríe. Tira la carambola y ...\n",
              "5     Es cierto, pero me ha quedado la preocupación ...\n",
              "6     Todos se ríen de él, y el que se ha ganado su ...\n",
              "7     Le gané este peso a Dámaso en la forma más sen...\n",
              "8                               ¿Y por qué es un tonto?\n",
              "9     Hombre, porque no pudo hacer una carambola sen...\n",
              "10                           Entonces le dice su madre:\n",
              "11    No te burles de los presentimientos de los vie...\n",
              "12    La pariente lo oye y va a comprar carne. Ella ...\n",
              "13    Véndame una libra de carne -y en el momento qu...\n",
              "14    El carnicero despacha su carne y cuando llega ...\n",
              "15    Lleve dos porque hasta aquí llega la gente dic...\n",
              "Name: 0, dtype: object"
            ]
          },
          "metadata": {},
          "execution_count": 18
        }
      ],
      "source": [
        "df.loc[:15,0]"
      ]
    },
    {
      "cell_type": "code",
      "execution_count": 19,
      "metadata": {
        "colab": {
          "base_uri": "https://localhost:8080/",
          "height": 145
        },
        "id": "kILsSoxTuHEr",
        "outputId": "3d579e95-f887-4123-ca55-c4be8bbde566"
      },
      "outputs": [
        {
          "output_type": "execute_result",
          "data": {
            "text/plain": [
              "'Imagínese usted un pueblo muy pequeño donde hay una señora vieja que tiene dos hijos, uno de 17 y una hija de 14. Está sirviéndoles el desayuno y tiene una expresión de preocupación. Los hijos le preguntan qué le pasa y ella les responde: No sé, pero he amanecido con el presentimiento de que algo muy grave va a sucederle a este pueblo. Ellos se ríen de la madre. Dicen que esos son presentimientos de vieja, cosas que pasan. El hijo se va a jugar al billar, y en el momento en que va a tirar una carambola sencillísima, el otro jugador le dice: Te apuesto un peso a que no la haces. Todos se ríen. Él se ríe. Tira la carambola y no la hace. Paga su peso y todos le preguntan qué pasó, si era una carambola sencilla. Contesta: Es cierto, pero me ha quedado la preocupación de una cosa que me dijo mi madre esta mañana sobre algo grave que va a suceder a este pueblo. Todos se ríen de él, y el que se ha ganado su peso regresa a su casa, donde está con su mamá o una nieta o en fin, cualquier pariente. Feliz con su peso, dice: Le gané este peso a Dámaso en la forma más sencilla porque es un tonto. ¿Y por qué es un tonto? Hombre, porque no pudo hacer una carambola sencillísima estorbado con la idea de que su mamá amaneció hoy con la idea de que algo muy grave va a suceder en este pueblo. Entonces le dice su madre: No te burles de los presentimientos de los viejos porque a veces salen. La pariente lo oye y va a comprar carne. Ella le dice al carnicero: Véndame una libra de carne -y en el momento que se la están cortando, agrega-: Mejor véndame dos, porque andan diciendo que algo grave va a pasar y lo mejor es estar preparado. El carnicero despacha su carne y cuando llega otra señora a comprar una libra de carne, le dice: Lleve dos porque hasta aquí llega la gente diciendo que algo muy grave va a pasar, y se están preparando y comprando cosas. Entonces la vieja responde: Tengo varios hijos, mire, mejor deme cuatro libras. Se lleva las cuatro libras; y para no hacer largo el cuento, diré que el carnicero en media hora agota la carne, mata otra vaca, se vende toda y se va esparciendo el rumor. Llega el momento en que todo el mundo, en el pueblo, está esperando que pase algo. Se paralizan las actividades y de pronto, a las dos de la tarde, hace calor como siempre. Alguien dice: ¿Se ha dado cuenta del calor que está haciendo? ¡Pero si en este pueblo siempre ha hecho calor! (Tanto calor que es pueblo donde los músicos tenían instrumentos remendados con brea y tocaban siempre a la sombra porque si tocaban al sol se les caían a pedazos.) Sin embargo -dice uno-, a esta hora nunca ha hecho tanto calor. Pero a las dos de la tarde es cuando hay más calor. Sí, pero no tanto calor como ahora. Al pueblo desierto, a la plaza desierta, baja de pronto un pajarito y se corre la voz: Hay un pajarito en la plaza. Y viene todo el mundo, espantado, a ver el pajarito. Pero señores, siempre ha habido pajaritos que bajan. Sí, pero nunca a esta hora. Llega un momento de tal tensión para los habitantes del pueblo, que todos están desesperados por irse y no tienen el valor de hacerlo. Yo sí soy muy macho -grita uno-. Yo me voy. Agarra sus muebles, sus hijos, sus animales, los mete en una carreta y atraviesa la calle central donde está el pobre pueblo viéndolo. Hasta el momento en que dicen: Si este se atreve, pues nosotros también nos vamos. Y empiezan a desmantelar literalmente el pueblo. Se llevan las cosas, los animales, todo. Y uno de los últimos que abandona el pueblo, dice: Que no venga la desgracia a caer sobre lo que queda de nuestra casa -y entonces la incendia y otros incendian también sus casas. Huyen en un tremendo y verdadero pánico, como en un éxodo de guerra, y en medio de ellos va la señora que tuvo el presagio, clamando: Yo dije que algo muy grave iba a pasar, y me dijeron que estaba loca.'"
            ],
            "application/vnd.google.colaboratory.intrinsic+json": {
              "type": "string"
            }
          },
          "metadata": {},
          "execution_count": 19
        }
      ],
      "source": [
        "corpus = df.apply(lambda row: ' '.join(row.values.astype(str)), axis=0)[0]\n",
        "corpus"
      ]
    },
    {
      "cell_type": "code",
      "execution_count": 20,
      "metadata": {
        "colab": {
          "base_uri": "https://localhost:8080/"
        },
        "id": "_KlsYd7_uOez",
        "outputId": "d4047737-db37-4e41-fb89-4b01af703a46"
      },
      "outputs": [
        {
          "output_type": "execute_result",
          "data": {
            "text/plain": [
              "['imagínese',\n",
              " 'usted',\n",
              " 'un',\n",
              " 'pueblo',\n",
              " 'muy',\n",
              " 'pequeño',\n",
              " 'donde',\n",
              " 'hay',\n",
              " 'una',\n",
              " 'señora',\n",
              " 'vieja',\n",
              " 'que',\n",
              " 'tiene',\n",
              " 'dos',\n",
              " 'hijos',\n",
              " 'uno',\n",
              " 'de',\n",
              " '17',\n",
              " 'y',\n",
              " 'una']"
            ]
          },
          "metadata": {},
          "execution_count": 20
        }
      ],
      "source": [
        "tokens=text_to_word_sequence(corpus)\n",
        "tokens[:20]"
      ]
    },
    {
      "cell_type": "code",
      "execution_count": 21,
      "metadata": {
        "colab": {
          "base_uri": "https://localhost:8080/"
        },
        "id": "GlqpZSJOJ1xQ",
        "outputId": "70874bc8-b7fc-4bec-a953-d2ec6ec4480d"
      },
      "outputs": [
        {
          "output_type": "stream",
          "name": "stdout",
          "text": [
            "Cantidad de tokens en el corpus: 730\n"
          ]
        }
      ],
      "source": [
        "print(\"Cantidad de tokens en el corpus:\", len(tokens))"
      ]
    },
    {
      "cell_type": "code",
      "execution_count": 22,
      "metadata": {
        "id": "RhQevOynuYk2"
      },
      "outputs": [],
      "source": [
        "text_sequences = []\n",
        "for i in range(train_len, len(tokens)):\n",
        "  seq = tokens[i-train_len:i]\n",
        "  text_sequences.append(seq)"
      ]
    },
    {
      "cell_type": "code",
      "execution_count": 23,
      "metadata": {
        "colab": {
          "base_uri": "https://localhost:8080/"
        },
        "id": "FU3FuqHSuhzq",
        "outputId": "d97ce852-83cc-44eb-b1fe-c7e0cffa59a3"
      },
      "outputs": [
        {
          "output_type": "execute_result",
          "data": {
            "text/plain": [
              "[['imagínese', 'usted', 'un', 'pueblo'],\n",
              " ['usted', 'un', 'pueblo', 'muy'],\n",
              " ['un', 'pueblo', 'muy', 'pequeño'],\n",
              " ['pueblo', 'muy', 'pequeño', 'donde'],\n",
              " ['muy', 'pequeño', 'donde', 'hay'],\n",
              " ['pequeño', 'donde', 'hay', 'una'],\n",
              " ['donde', 'hay', 'una', 'señora'],\n",
              " ['hay', 'una', 'señora', 'vieja'],\n",
              " ['una', 'señora', 'vieja', 'que'],\n",
              " ['señora', 'vieja', 'que', 'tiene'],\n",
              " ['vieja', 'que', 'tiene', 'dos'],\n",
              " ['que', 'tiene', 'dos', 'hijos'],\n",
              " ['tiene', 'dos', 'hijos', 'uno'],\n",
              " ['dos', 'hijos', 'uno', 'de'],\n",
              " ['hijos', 'uno', 'de', '17'],\n",
              " ['uno', 'de', '17', 'y'],\n",
              " ['de', '17', 'y', 'una'],\n",
              " ['17', 'y', 'una', 'hija'],\n",
              " ['y', 'una', 'hija', 'de'],\n",
              " ['una', 'hija', 'de', '14']]"
            ]
          },
          "metadata": {},
          "execution_count": 23
        }
      ],
      "source": [
        "text_sequences[:20]"
      ]
    },
    {
      "cell_type": "code",
      "execution_count": 25,
      "metadata": {
        "colab": {
          "base_uri": "https://localhost:8080/"
        },
        "id": "064N2jtLvHRg",
        "outputId": "81b35aab-0288-435c-977e-8c84f632945e"
      },
      "outputs": [
        {
          "output_type": "execute_result",
          "data": {
            "text/plain": [
              "[[283, 282, 13, 9],\n",
              " [282, 13, 9, 20],\n",
              " [13, 9, 20, 111],\n",
              " [9, 20, 111, 34],\n",
              " [20, 111, 34, 45],\n",
              " [111, 34, 45, 10],\n",
              " [34, 45, 10, 46],\n",
              " [45, 10, 46, 47],\n",
              " [10, 46, 47, 2],\n",
              " [46, 47, 2, 66],\n",
              " [47, 2, 66, 28],\n",
              " [2, 66, 28, 35],\n",
              " [66, 28, 35, 36],\n",
              " [28, 35, 36, 4],\n",
              " [35, 36, 4, 112],\n",
              " [36, 4, 112, 1],\n",
              " [4, 112, 1, 10],\n",
              " [112, 1, 10, 113],\n",
              " [1, 10, 113, 4],\n",
              " [10, 113, 4, 114]]"
            ]
          },
          "metadata": {},
          "execution_count": 25
        }
      ],
      "source": [
        "tok = Tokenizer()\n",
        "tok.fit_on_texts(text_sequences)\n",
        "\n",
        "sequences = tok.texts_to_sequences(text_sequences)\n",
        "\n",
        "sequences[:20]"
      ]
    },
    {
      "cell_type": "code",
      "execution_count": 26,
      "metadata": {
        "colab": {
          "base_uri": "https://localhost:8080/"
        },
        "id": "vwsvmvDKKXSP",
        "outputId": "2416d9a8-ce05-4f59-a6a3-aae8abffc450"
      },
      "outputs": [
        {
          "output_type": "stream",
          "name": "stdout",
          "text": [
            "Cantidad de rows del dataset: 726\n"
          ]
        }
      ],
      "source": [
        "print(\"Cantidad de rows del dataset:\", len(sequences))"
      ]
    },
    {
      "cell_type": "markdown",
      "metadata": {
        "id": "QMVP4bj0vL2e"
      },
      "source": [
        "### 3 - Input y target"
      ]
    },
    {
      "cell_type": "code",
      "execution_count": 27,
      "metadata": {
        "colab": {
          "base_uri": "https://localhost:8080/"
        },
        "id": "mx2xwdz3KloJ",
        "outputId": "328a0197-eabd-4656-dc48-3473844f185d"
      },
      "outputs": [
        {
          "output_type": "execute_result",
          "data": {
            "text/plain": [
              "array([[1, 2, 3, 4],\n",
              "       [5, 6, 7, 8]])"
            ]
          },
          "metadata": {},
          "execution_count": 27
        }
      ],
      "source": [
        "# Con numpy es muy fácil realizar el slicing de vectores\n",
        "ex = np.array([[1,2,3,4],[5,6,7,8]])\n",
        "ex"
      ]
    },
    {
      "cell_type": "code",
      "execution_count": 28,
      "metadata": {
        "colab": {
          "base_uri": "https://localhost:8080/"
        },
        "id": "BEod7qghvTVt",
        "outputId": "2851e8c3-d5c1-4220-ce26-45f17539036d"
      },
      "outputs": [
        {
          "output_type": "stream",
          "name": "stdout",
          "text": [
            "Dimension: (2, 4)\n",
            "Todos los elementos: [[1 2 3 4]\n",
            " [5 6 7 8]]\n",
            "Todos los elementos menos el último: [[1 2 3]\n",
            " [5 6 7]]\n"
          ]
        }
      ],
      "source": [
        "print(\"Dimension:\", ex.shape)\n",
        "print(\"Todos los elementos:\", ex)\n",
        "print(\"Todos los elementos menos el último:\", ex[:, :-1])"
      ]
    },
    {
      "cell_type": "code",
      "execution_count": 29,
      "metadata": {
        "colab": {
          "base_uri": "https://localhost:8080/"
        },
        "id": "i95xWqtCvp8T",
        "outputId": "460b7745-6f6c-4b7d-f2f0-de5d1dea6da8"
      },
      "outputs": [
        {
          "output_type": "stream",
          "name": "stdout",
          "text": [
            "Input: [[1 2 3]\n",
            " [5 6 7]]\n",
            "Target: [4 8]\n"
          ]
        }
      ],
      "source": [
        "input = ex[:,:-1] # todos los rows, menos la ultima col\n",
        "target = ex[:, -1] # última col de cada row\n",
        "\n",
        "print(\"Input:\", input)\n",
        "print(\"Target:\", target)"
      ]
    },
    {
      "cell_type": "code",
      "execution_count": 30,
      "metadata": {
        "colab": {
          "base_uri": "https://localhost:8080/"
        },
        "id": "e1vJTG65v4Qn",
        "outputId": "041f4d66-25ab-4428-c28f-69aef9b3729c"
      },
      "outputs": [
        {
          "output_type": "stream",
          "name": "stdout",
          "text": [
            "(726, 3)\n",
            "(726,)\n"
          ]
        }
      ],
      "source": [
        "arr_sequences = np.array(sequences)\n",
        "x_data = arr_sequences[:,:-1]\n",
        "y_data_int = arr_sequences[:,-1] # aún falta el oneHotEncoder\n",
        "\n",
        "print(x_data.shape)\n",
        "print(y_data_int.shape)"
      ]
    },
    {
      "cell_type": "code",
      "execution_count": 31,
      "metadata": {
        "colab": {
          "base_uri": "https://localhost:8080/"
        },
        "id": "ln6kVWVlwBBs",
        "outputId": "cb1be01e-728c-4db1-9ea8-d67d19c3b473"
      },
      "outputs": [
        {
          "output_type": "execute_result",
          "data": {
            "text/plain": [
              "{1: 'y',\n",
              " 2: 'que',\n",
              " 3: 'a',\n",
              " 4: 'de',\n",
              " 5: 'la',\n",
              " 6: 'el',\n",
              " 7: 'se',\n",
              " 8: 'en',\n",
              " 9: 'pueblo',\n",
              " 10: 'una',\n",
              " 11: 'va',\n",
              " 12: 'no',\n",
              " 13: 'un',\n",
              " 14: 'los',\n",
              " 15: 'le',\n",
              " 16: 'dice',\n",
              " 17: 'su',\n",
              " 18: 'algo',\n",
              " 19: 'calor',\n",
              " 20: 'muy',\n",
              " 21: 'pero',\n",
              " 22: 'con',\n",
              " 23: 'grave',\n",
              " 24: 'este',\n",
              " 25: 'es',\n",
              " 26: 'ha',\n",
              " 27: 'porque',\n",
              " 28: 'dos',\n",
              " 29: 'está',\n",
              " 30: 'momento',\n",
              " 31: 'peso',\n",
              " 32: 'carne',\n",
              " 33: 'las',\n",
              " 34: 'donde',\n",
              " 35: 'hijos',\n",
              " 36: 'uno',\n",
              " 37: 'al',\n",
              " 38: 'carambola',\n",
              " 39: 'todos',\n",
              " 40: 'si',\n",
              " 41: 'me',\n",
              " 42: 'llega',\n",
              " 43: 'siempre',\n",
              " 44: 'sus',\n",
              " 45: 'hay',\n",
              " 46: 'señora',\n",
              " 47: 'vieja',\n",
              " 48: 'qué',\n",
              " 49: 'ríen',\n",
              " 50: 'madre',\n",
              " 51: 'cosas',\n",
              " 52: 'esta',\n",
              " 53: 'entonces',\n",
              " 54: 'lo',\n",
              " 55: 'carnicero',\n",
              " 56: 'están',\n",
              " 57: 'mejor',\n",
              " 58: 'pasar',\n",
              " 59: 'hora',\n",
              " 60: 'todo',\n",
              " 61: 'como',\n",
              " 62: 'tanto',\n",
              " 63: 'sí',\n",
              " 64: 'pajarito',\n",
              " 65: 'yo',\n",
              " 66: 'tiene',\n",
              " 67: 'preocupación',\n",
              " 68: 'preguntan',\n",
              " 69: 'ella',\n",
              " 70: 'les',\n",
              " 71: 'responde',\n",
              " 72: 'ellos',\n",
              " 73: 'dicen',\n",
              " 74: 'presentimientos',\n",
              " 75: 'sencillísima',\n",
              " 76: 'te',\n",
              " 77: 'él',\n",
              " 78: 'hace',\n",
              " 79: 'sencilla',\n",
              " 80: 'sobre',\n",
              " 81: 'suceder',\n",
              " 82: 'casa',\n",
              " 83: 'mamá',\n",
              " 84: 'o',\n",
              " 85: 'pariente',\n",
              " 86: 'más',\n",
              " 87: 'tonto',\n",
              " 88: 'por',\n",
              " 89: 'hacer',\n",
              " 90: 'idea',\n",
              " 91: 'comprar',\n",
              " 92: 'véndame',\n",
              " 93: 'libra',\n",
              " 94: 'diciendo',\n",
              " 95: 'cuando',\n",
              " 96: 'otra',\n",
              " 97: 'hasta',\n",
              " 98: 'cuatro',\n",
              " 99: 'libras',\n",
              " 100: 'para',\n",
              " 101: 'mundo',\n",
              " 102: 'pronto',\n",
              " 103: 'tarde',\n",
              " 104: 'del',\n",
              " 105: 'hecho',\n",
              " 106: 'tocaban',\n",
              " 107: 'nunca',\n",
              " 108: 'plaza',\n",
              " 109: 'animales',\n",
              " 110: 'también',\n",
              " 111: 'pequeño',\n",
              " 112: '17',\n",
              " 113: 'hija',\n",
              " 114: '14',\n",
              " 115: 'sirviéndoles',\n",
              " 116: 'desayuno',\n",
              " 117: 'expresión',\n",
              " 118: 'pasa',\n",
              " 119: 'sé',\n",
              " 120: 'he',\n",
              " 121: 'amanecido',\n",
              " 122: 'presentimiento',\n",
              " 123: 'sucederle',\n",
              " 124: 'esos',\n",
              " 125: 'son',\n",
              " 126: 'pasan',\n",
              " 127: 'hijo',\n",
              " 128: 'jugar',\n",
              " 129: 'billar',\n",
              " 130: 'tirar',\n",
              " 131: 'otro',\n",
              " 132: 'jugador',\n",
              " 133: 'apuesto',\n",
              " 134: 'haces',\n",
              " 135: 'ríe',\n",
              " 136: 'tira',\n",
              " 137: 'paga',\n",
              " 138: 'pasó',\n",
              " 139: 'era',\n",
              " 140: 'contesta',\n",
              " 141: 'cierto',\n",
              " 142: 'quedado',\n",
              " 143: 'cosa',\n",
              " 144: 'dijo',\n",
              " 145: 'mi',\n",
              " 146: 'mañana',\n",
              " 147: 'ganado',\n",
              " 148: 'regresa',\n",
              " 149: 'nieta',\n",
              " 150: 'fin',\n",
              " 151: 'cualquier',\n",
              " 152: 'feliz',\n",
              " 153: 'gané',\n",
              " 154: 'dámaso',\n",
              " 155: 'forma',\n",
              " 156: '¿y',\n",
              " 157: 'hombre',\n",
              " 158: 'pudo',\n",
              " 159: 'estorbado',\n",
              " 160: 'amaneció',\n",
              " 161: 'hoy',\n",
              " 162: 'burles',\n",
              " 163: 'viejos',\n",
              " 164: 'veces',\n",
              " 165: 'salen',\n",
              " 166: 'oye',\n",
              " 167: 'cortando',\n",
              " 168: 'agrega',\n",
              " 169: 'andan',\n",
              " 170: 'estar',\n",
              " 171: 'preparado',\n",
              " 172: 'despacha',\n",
              " 173: 'lleve',\n",
              " 174: 'aquí',\n",
              " 175: 'gente',\n",
              " 176: 'preparando',\n",
              " 177: 'comprando',\n",
              " 178: 'tengo',\n",
              " 179: 'varios',\n",
              " 180: 'mire',\n",
              " 181: 'deme',\n",
              " 182: 'lleva',\n",
              " 183: 'largo',\n",
              " 184: 'cuento',\n",
              " 185: 'diré',\n",
              " 186: 'media',\n",
              " 187: 'agota',\n",
              " 188: 'mata',\n",
              " 189: 'vaca',\n",
              " 190: 'vende',\n",
              " 191: 'toda',\n",
              " 192: 'esparciendo',\n",
              " 193: 'rumor',\n",
              " 194: 'esperando',\n",
              " 195: 'pase',\n",
              " 196: 'paralizan',\n",
              " 197: 'actividades',\n",
              " 198: 'alguien',\n",
              " 199: '¿se',\n",
              " 200: 'dado',\n",
              " 201: 'cuenta',\n",
              " 202: 'haciendo',\n",
              " 203: '¡pero',\n",
              " 204: 'músicos',\n",
              " 205: 'tenían',\n",
              " 206: 'instrumentos',\n",
              " 207: 'remendados',\n",
              " 208: 'brea',\n",
              " 209: 'sombra',\n",
              " 210: 'sol',\n",
              " 211: 'caían',\n",
              " 212: 'pedazos',\n",
              " 213: 'sin',\n",
              " 214: 'embargo',\n",
              " 215: 'ahora',\n",
              " 216: 'desierto',\n",
              " 217: 'desierta',\n",
              " 218: 'baja',\n",
              " 219: 'corre',\n",
              " 220: 'voz',\n",
              " 221: 'viene',\n",
              " 222: 'espantado',\n",
              " 223: 'ver',\n",
              " 224: 'señores',\n",
              " 225: 'habido',\n",
              " 226: 'pajaritos',\n",
              " 227: 'bajan',\n",
              " 228: 'tal',\n",
              " 229: 'tensión',\n",
              " 230: 'habitantes',\n",
              " 231: 'desesperados',\n",
              " 232: 'irse',\n",
              " 233: 'tienen',\n",
              " 234: 'valor',\n",
              " 235: 'hacerlo',\n",
              " 236: 'soy',\n",
              " 237: 'macho',\n",
              " 238: 'grita',\n",
              " 239: 'voy',\n",
              " 240: 'agarra',\n",
              " 241: 'muebles',\n",
              " 242: 'mete',\n",
              " 243: 'carreta',\n",
              " 244: 'atraviesa',\n",
              " 245: 'calle',\n",
              " 246: 'central',\n",
              " 247: 'pobre',\n",
              " 248: 'viéndolo',\n",
              " 249: 'atreve',\n",
              " 250: 'pues',\n",
              " 251: 'nosotros',\n",
              " 252: 'nos',\n",
              " 253: 'vamos',\n",
              " 254: 'empiezan',\n",
              " 255: 'desmantelar',\n",
              " 256: 'literalmente',\n",
              " 257: 'llevan',\n",
              " 258: 'últimos',\n",
              " 259: 'abandona',\n",
              " 260: 'venga',\n",
              " 261: 'desgracia',\n",
              " 262: 'caer',\n",
              " 263: 'queda',\n",
              " 264: 'nuestra',\n",
              " 265: 'incendia',\n",
              " 266: 'otros',\n",
              " 267: 'incendian',\n",
              " 268: 'casas',\n",
              " 269: 'huyen',\n",
              " 270: 'tremendo',\n",
              " 271: 'verdadero',\n",
              " 272: 'pánico',\n",
              " 273: 'éxodo',\n",
              " 274: 'guerra',\n",
              " 275: 'medio',\n",
              " 276: 'tuvo',\n",
              " 277: 'presagio',\n",
              " 278: 'clamando',\n",
              " 279: 'dije',\n",
              " 280: 'iba',\n",
              " 281: 'dijeron',\n",
              " 282: 'usted',\n",
              " 283: 'imagínese',\n",
              " 284: 'estaba'}"
            ]
          },
          "metadata": {},
          "execution_count": 31
        }
      ],
      "source": [
        "# Palabras del vocabulario\n",
        "tok.index_word"
      ]
    },
    {
      "cell_type": "code",
      "execution_count": 32,
      "metadata": {
        "colab": {
          "base_uri": "https://localhost:8080/"
        },
        "id": "gJgVhq1zwEpf",
        "outputId": "054c8b10-d039-4276-c033-8da15c000596"
      },
      "outputs": [
        {
          "output_type": "execute_result",
          "data": {
            "text/plain": [
              "284"
            ]
          },
          "metadata": {},
          "execution_count": 32
        }
      ],
      "source": [
        "# Cantidad de palabras en el vocabulario\n",
        "vocab_size = len(tok.word_counts)\n",
        "vocab_size"
      ]
    },
    {
      "cell_type": "code",
      "execution_count": 34,
      "metadata": {
        "colab": {
          "base_uri": "https://localhost:8080/"
        },
        "id": "qWjNrNx9wM1b",
        "outputId": "0e6a75fb-e6ae-40ae-d216-c1993ef07cc6"
      },
      "outputs": [
        {
          "output_type": "execute_result",
          "data": {
            "text/plain": [
              "1"
            ]
          },
          "metadata": {},
          "execution_count": 34
        }
      ],
      "source": [
        "# En el caso anterior explota porque y_data_int comienza en \"1\" en vez de \"0\"\n",
        "# valor minimo:\n",
        "min(y_data_int)"
      ]
    },
    {
      "cell_type": "code",
      "execution_count": 35,
      "metadata": {
        "colab": {
          "base_uri": "https://localhost:8080/"
        },
        "id": "gIg2e2WCwXbG",
        "outputId": "9b4fd386-22bd-4e3e-c268-40337988d76c"
      },
      "outputs": [
        {
          "output_type": "execute_result",
          "data": {
            "text/plain": [
              "(726, 284)"
            ]
          },
          "metadata": {},
          "execution_count": 35
        }
      ],
      "source": [
        "y_data_int_offset = y_data_int - 1\n",
        "y_data = to_categorical(y_data_int_offset, num_classes=vocab_size)\n",
        "y_data.shape"
      ]
    },
    {
      "cell_type": "markdown",
      "metadata": {
        "id": "GmJWNyxQwfCE"
      },
      "source": [
        "### 4 - Entrenar el modelo"
      ]
    },
    {
      "cell_type": "code",
      "execution_count": 39,
      "metadata": {
        "colab": {
          "base_uri": "https://localhost:8080/"
        },
        "id": "0cOmNZT_weK2",
        "outputId": "245cea0e-9ae1-466b-f26a-1b6144c188ee"
      },
      "outputs": [
        {
          "output_type": "execute_result",
          "data": {
            "text/plain": [
              "3"
            ]
          },
          "metadata": {},
          "execution_count": 39
        }
      ],
      "source": [
        "# largo de la secuencia de entrada\n",
        "input_seq_len = x_data.shape[1]\n",
        "input_seq_len"
      ]
    },
    {
      "cell_type": "code",
      "execution_count": 37,
      "metadata": {
        "colab": {
          "base_uri": "https://localhost:8080/"
        },
        "id": "qtwITjgnwlgp",
        "outputId": "0ec502fd-86a9-4fdc-e2fb-ff349dd2ec48"
      },
      "outputs": [
        {
          "output_type": "execute_result",
          "data": {
            "text/plain": [
              "284"
            ]
          },
          "metadata": {},
          "execution_count": 37
        }
      ],
      "source": [
        "# Largo del vector de salida --> vocab_size\n",
        "output_size = vocab_size\n",
        "output_size"
      ]
    },
    {
      "cell_type": "markdown",
      "source": [
        "Se modificó el modelo de la siguiente manera:\n",
        "\n",
        "*   Se aumentó el tamaño de la capa de embedding a 7 dimensiones\n",
        "*   Se aumentó el número de unidades LSTM\n",
        "*   Se aumentó el valor actual de dropout a 0.3\n",
        "*   Se cambió la función de activación a relu\n",
        "*   Se aumentaron los epochs"
      ],
      "metadata": {
        "id": "Mc73G4JIN6MP"
      }
    },
    {
      "cell_type": "code",
      "execution_count": 50,
      "metadata": {
        "colab": {
          "base_uri": "https://localhost:8080/"
        },
        "id": "jzTZRXrrwrvi",
        "outputId": "3d11852b-b52e-4dc1-ac28-dde1388769cb"
      },
      "outputs": [
        {
          "output_type": "stream",
          "name": "stdout",
          "text": [
            "Model: \"sequential_3\"\n",
            "_________________________________________________________________\n",
            " Layer (type)                Output Shape              Param #   \n",
            "=================================================================\n",
            " embedding_3 (Embedding)     (None, 3, 7)              1995      \n",
            "                                                                 \n",
            " lstm_6 (LSTM)               (None, 3, 128)            69632     \n",
            "                                                                 \n",
            " dropout_3 (Dropout)         (None, 3, 128)            0         \n",
            "                                                                 \n",
            " lstm_7 (LSTM)               (None, 128)               131584    \n",
            "                                                                 \n",
            " dense_6 (Dense)             (None, 32)                4128      \n",
            "                                                                 \n",
            " dense_7 (Dense)             (None, 284)               9372      \n",
            "                                                                 \n",
            "=================================================================\n",
            "Total params: 216,711\n",
            "Trainable params: 216,711\n",
            "Non-trainable params: 0\n",
            "_________________________________________________________________\n"
          ]
        }
      ],
      "source": [
        "model = Sequential()\n",
        "\n",
        "model.add(Embedding(input_dim=vocab_size+1, output_dim=7, input_length=input_seq_len))\n",
        "\n",
        "model.add(LSTM(128, return_sequences=True))\n",
        "model.add(Dropout(0.2))\n",
        "model.add(LSTM(128))\n",
        "model.add(Dense(32, activation='relu'))\n",
        "\n",
        "model.add(Dense(vocab_size, activation='relu'))\n",
        "\n",
        "model.compile(loss='categorical_crossentropy', optimizer='adam', metrics=['accuracy'])\n",
        "\n",
        "model.summary()"
      ]
    },
    {
      "cell_type": "code",
      "execution_count": 51,
      "metadata": {
        "colab": {
          "base_uri": "https://localhost:8080/"
        },
        "id": "oQq1PHDkxDvN",
        "outputId": "6aa4f480-bb84-4c0d-ea22-2de4c5f10e27"
      },
      "outputs": [
        {
          "output_type": "stream",
          "name": "stdout",
          "text": [
            "Epoch 1/50\n",
            "21/21 [==============================] - 8s 118ms/step - loss: 13.9651 - accuracy: 0.0138 - val_loss: 14.1677 - val_accuracy: 0.0137\n",
            "Epoch 2/50\n",
            "21/21 [==============================] - 1s 46ms/step - loss: 13.7871 - accuracy: 0.0168 - val_loss: 14.1282 - val_accuracy: 0.0137\n",
            "Epoch 3/50\n",
            "21/21 [==============================] - 1s 38ms/step - loss: 13.7715 - accuracy: 0.0153 - val_loss: 14.1118 - val_accuracy: 0.0000e+00\n",
            "Epoch 4/50\n",
            "21/21 [==============================] - 0s 9ms/step - loss: 13.7799 - accuracy: 0.0260 - val_loss: 14.0908 - val_accuracy: 0.0685\n",
            "Epoch 5/50\n",
            "21/21 [==============================] - 1s 26ms/step - loss: 13.7705 - accuracy: 0.0444 - val_loss: 14.0892 - val_accuracy: 0.0000e+00\n",
            "Epoch 6/50\n",
            "21/21 [==============================] - 0s 9ms/step - loss: 13.7809 - accuracy: 0.0245 - val_loss: 14.0823 - val_accuracy: 0.0000e+00\n",
            "Epoch 7/50\n",
            "21/21 [==============================] - 0s 10ms/step - loss: 13.7717 - accuracy: 0.0306 - val_loss: 14.0794 - val_accuracy: 0.0000e+00\n",
            "Epoch 8/50\n",
            "21/21 [==============================] - 0s 19ms/step - loss: 13.7825 - accuracy: 0.0368 - val_loss: 14.0602 - val_accuracy: 0.0411\n",
            "Epoch 9/50\n",
            "21/21 [==============================] - 0s 19ms/step - loss: 13.7604 - accuracy: 0.0306 - val_loss: 14.0819 - val_accuracy: 0.0000e+00\n",
            "Epoch 10/50\n",
            "21/21 [==============================] - 0s 9ms/step - loss: 13.7512 - accuracy: 0.0245 - val_loss: 14.0699 - val_accuracy: 0.0000e+00\n",
            "Epoch 11/50\n",
            "21/21 [==============================] - 1s 27ms/step - loss: 13.7297 - accuracy: 0.0368 - val_loss: 14.0599 - val_accuracy: 0.0411\n",
            "Epoch 12/50\n",
            "21/21 [==============================] - 1s 28ms/step - loss: 13.7072 - accuracy: 0.0475 - val_loss: 14.0555 - val_accuracy: 0.0411\n",
            "Epoch 13/50\n",
            "21/21 [==============================] - 1s 26ms/step - loss: 13.6808 - accuracy: 0.0429 - val_loss: 14.3762 - val_accuracy: 0.0685\n",
            "Epoch 14/50\n",
            "21/21 [==============================] - 0s 9ms/step - loss: 13.6604 - accuracy: 0.0459 - val_loss: 14.3829 - val_accuracy: 0.0822\n",
            "Epoch 15/50\n",
            "21/21 [==============================] - 0s 16ms/step - loss: 13.7382 - accuracy: 0.0475 - val_loss: 14.3712 - val_accuracy: 0.0411\n",
            "Epoch 16/50\n",
            "21/21 [==============================] - 0s 9ms/step - loss: 13.6366 - accuracy: 0.0536 - val_loss: 14.1918 - val_accuracy: 0.0411\n",
            "Epoch 17/50\n",
            "21/21 [==============================] - 0s 9ms/step - loss: 13.5836 - accuracy: 0.0567 - val_loss: 14.5202 - val_accuracy: 0.0548\n",
            "Epoch 18/50\n",
            "21/21 [==============================] - 0s 19ms/step - loss: 13.5993 - accuracy: 0.0628 - val_loss: 14.5011 - val_accuracy: 0.0548\n",
            "Epoch 19/50\n",
            "21/21 [==============================] - 0s 10ms/step - loss: nan - accuracy: 0.0812 - val_loss: nan - val_accuracy: 0.0685\n",
            "Epoch 20/50\n",
            "21/21 [==============================] - 0s 10ms/step - loss: nan - accuracy: 0.0352 - val_loss: nan - val_accuracy: 0.0685\n",
            "Epoch 21/50\n",
            "21/21 [==============================] - 0s 10ms/step - loss: nan - accuracy: 0.0352 - val_loss: nan - val_accuracy: 0.0685\n",
            "Epoch 22/50\n",
            "21/21 [==============================] - 0s 10ms/step - loss: nan - accuracy: 0.0352 - val_loss: nan - val_accuracy: 0.0685\n",
            "Epoch 23/50\n",
            "21/21 [==============================] - 0s 23ms/step - loss: nan - accuracy: 0.0352 - val_loss: nan - val_accuracy: 0.0685\n",
            "Epoch 24/50\n",
            "21/21 [==============================] - 0s 14ms/step - loss: nan - accuracy: 0.0352 - val_loss: nan - val_accuracy: 0.0685\n",
            "Epoch 25/50\n",
            "21/21 [==============================] - 1s 30ms/step - loss: nan - accuracy: 0.0352 - val_loss: nan - val_accuracy: 0.0685\n",
            "Epoch 26/50\n",
            "21/21 [==============================] - 0s 13ms/step - loss: nan - accuracy: 0.0352 - val_loss: nan - val_accuracy: 0.0685\n",
            "Epoch 27/50\n",
            "21/21 [==============================] - 0s 12ms/step - loss: nan - accuracy: 0.0352 - val_loss: nan - val_accuracy: 0.0685\n",
            "Epoch 28/50\n",
            "21/21 [==============================] - 0s 13ms/step - loss: nan - accuracy: 0.0352 - val_loss: nan - val_accuracy: 0.0685\n",
            "Epoch 29/50\n",
            "21/21 [==============================] - 1s 27ms/step - loss: nan - accuracy: 0.0352 - val_loss: nan - val_accuracy: 0.0685\n",
            "Epoch 30/50\n",
            "21/21 [==============================] - 0s 15ms/step - loss: nan - accuracy: 0.0352 - val_loss: nan - val_accuracy: 0.0685\n",
            "Epoch 31/50\n",
            "21/21 [==============================] - 0s 14ms/step - loss: nan - accuracy: 0.0352 - val_loss: nan - val_accuracy: 0.0685\n",
            "Epoch 32/50\n",
            "21/21 [==============================] - 0s 10ms/step - loss: nan - accuracy: 0.0352 - val_loss: nan - val_accuracy: 0.0685\n",
            "Epoch 33/50\n",
            "21/21 [==============================] - 0s 10ms/step - loss: nan - accuracy: 0.0352 - val_loss: nan - val_accuracy: 0.0685\n",
            "Epoch 34/50\n",
            "21/21 [==============================] - 0s 10ms/step - loss: nan - accuracy: 0.0352 - val_loss: nan - val_accuracy: 0.0685\n",
            "Epoch 35/50\n",
            "21/21 [==============================] - 0s 10ms/step - loss: nan - accuracy: 0.0352 - val_loss: nan - val_accuracy: 0.0685\n",
            "Epoch 36/50\n",
            "21/21 [==============================] - 0s 9ms/step - loss: nan - accuracy: 0.0352 - val_loss: nan - val_accuracy: 0.0685\n",
            "Epoch 37/50\n",
            "21/21 [==============================] - 0s 10ms/step - loss: nan - accuracy: 0.0352 - val_loss: nan - val_accuracy: 0.0685\n",
            "Epoch 38/50\n",
            "21/21 [==============================] - 0s 10ms/step - loss: nan - accuracy: 0.0352 - val_loss: nan - val_accuracy: 0.0685\n",
            "Epoch 39/50\n",
            "21/21 [==============================] - 0s 10ms/step - loss: nan - accuracy: 0.0352 - val_loss: nan - val_accuracy: 0.0685\n",
            "Epoch 40/50\n",
            "21/21 [==============================] - 0s 9ms/step - loss: nan - accuracy: 0.0352 - val_loss: nan - val_accuracy: 0.0685\n",
            "Epoch 41/50\n",
            "21/21 [==============================] - 0s 9ms/step - loss: nan - accuracy: 0.0352 - val_loss: nan - val_accuracy: 0.0685\n",
            "Epoch 42/50\n",
            "21/21 [==============================] - 0s 10ms/step - loss: nan - accuracy: 0.0352 - val_loss: nan - val_accuracy: 0.0685\n",
            "Epoch 43/50\n",
            "21/21 [==============================] - 0s 10ms/step - loss: nan - accuracy: 0.0352 - val_loss: nan - val_accuracy: 0.0685\n",
            "Epoch 44/50\n",
            "21/21 [==============================] - 0s 10ms/step - loss: nan - accuracy: 0.0352 - val_loss: nan - val_accuracy: 0.0685\n",
            "Epoch 45/50\n",
            "21/21 [==============================] - 0s 10ms/step - loss: nan - accuracy: 0.0352 - val_loss: nan - val_accuracy: 0.0685\n",
            "Epoch 46/50\n",
            "21/21 [==============================] - 0s 9ms/step - loss: nan - accuracy: 0.0352 - val_loss: nan - val_accuracy: 0.0685\n",
            "Epoch 47/50\n",
            "21/21 [==============================] - 0s 11ms/step - loss: nan - accuracy: 0.0352 - val_loss: nan - val_accuracy: 0.0685\n",
            "Epoch 48/50\n",
            "21/21 [==============================] - 0s 10ms/step - loss: nan - accuracy: 0.0352 - val_loss: nan - val_accuracy: 0.0685\n",
            "Epoch 49/50\n",
            "21/21 [==============================] - 0s 10ms/step - loss: nan - accuracy: 0.0352 - val_loss: nan - val_accuracy: 0.0685\n",
            "Epoch 50/50\n",
            "21/21 [==============================] - 0s 9ms/step - loss: nan - accuracy: 0.0352 - val_loss: nan - val_accuracy: 0.0685\n"
          ]
        }
      ],
      "source": [
        "hist = model.fit(x_data, y_data, epochs=50, validation_split=0.1)"
      ]
    },
    {
      "cell_type": "code",
      "execution_count": 52,
      "metadata": {
        "colab": {
          "base_uri": "https://localhost:8080/",
          "height": 430
        },
        "id": "q_orBXOrCsNn",
        "outputId": "c3c3f150-8a48-4bd1-a61b-3ac481657f1a"
      },
      "outputs": [
        {
          "output_type": "display_data",
          "data": {
            "text/plain": [
              "<Figure size 640x480 with 1 Axes>"
            ],
            "image/png": "[encoded data removed]"
          },
          "metadata": {}
        }
      ],
      "source": [
        "import matplotlib.pyplot as plt\n",
        "import seaborn as sns\n",
        "\n",
        "# Entrenamiento\n",
        "epoch_count = range(1, len(hist.history['accuracy']) + 1)\n",
        "sns.lineplot(x=epoch_count,  y=hist.history['accuracy'], label='train')\n",
        "sns.lineplot(x=epoch_count,  y=hist.history['val_accuracy'], label='valid')\n",
        "plt.show()"
      ]
    },
    {
      "cell_type": "markdown",
      "metadata": {
        "id": "KN6Fg_BsxJe6"
      },
      "source": [
        "### 5 - Predicción de próxima palabra"
      ]
    },
    {
      "cell_type": "code",
      "execution_count": 53,
      "metadata": {
        "id": "IBvKHFPmzpy2"
      },
      "outputs": [],
      "source": [
        "import sys\n",
        "!{sys.executable} -m pip install gradio --quiet"
      ]
    },
    {
      "cell_type": "code",
      "execution_count": 54,
      "metadata": {
        "colab": {
          "base_uri": "https://localhost:8080/",
          "height": 692
        },
        "id": "HNyBykvhzs7-",
        "outputId": "abbbaebf-396e-45e1-f4a5-d3562ef580a3"
      },
      "outputs": [
        {
          "output_type": "stream",
          "name": "stderr",
          "text": [
            "<ipython-input-54-8850fd72ce56>:24: UserWarning: `layout` parameter is deprecated, and it has no effect\n",
            "  iface = gr.Interface(\n"
          ]
        },
        {
          "output_type": "stream",
          "name": "stdout",
          "text": [
            "Colab notebook detected. This cell will run indefinitely so that you can see errors and logs. To turn off, set debug=False in launch().\n",
            "Note: opening Chrome Inspector may crash demo inside Colab notebooks.\n",
            "\n",
            "To create a public link, set `share=True` in `launch()`.\n"
          ]
        },
        {
          "output_type": "display_data",
          "data": {
            "text/plain": [
              "<IPython.core.display.Javascript object>"
            ],
            "application/javascript": [
              "(async (port, path, width, height, cache, element) => {\n",
              "                        if (!google.colab.kernel.accessAllowed && !cache) {\n",
              "                            return;\n",
              "                        }\n",
              "                        element.appendChild(document.createTextNode(''));\n",
              "                        const url = await google.colab.kernel.proxyPort(port, {cache});\n",
              "\n",
              "                        const external_link = document.createElement('div');\n",
              "                        external_link.innerHTML = `\n",
              "                            <div style=\"font-family: monospace; margin-bottom: 0.5rem\">\n",
              "                                Running on <a href=${new URL(path, url).toString()} target=\"_blank\">\n",
              "                                    https://localhost:${port}${path}\n",
              "                                </a>\n",
              "                            </div>\n",
              "                        `;\n",
              "                        element.appendChild(external_link);\n",
              "\n",
              "                        const iframe = document.createElement('iframe');\n",
              "                        iframe.src = new URL(path, url).toString();\n",
              "                        iframe.height = height;\n",
              "                        iframe.allow = \"autoplay; camera; microphone; clipboard-read; clipboard-write;\"\n",
              "                        iframe.width = width;\n",
              "                        iframe.style.border = 0;\n",
              "                        element.appendChild(iframe);\n",
              "                    })(7860, \"/\", \"100%\", 500, false, window.element)"
            ]
          },
          "metadata": {}
        },
        {
          "output_type": "stream",
          "name": "stdout",
          "text": [
            "1/1 [==============================] - 1s 1s/step\n",
            "Keyboard interruption in main thread... closing server.\n"
          ]
        },
        {
          "output_type": "execute_result",
          "data": {
            "text/plain": []
          },
          "metadata": {},
          "execution_count": 54
        }
      ],
      "source": [
        "import gradio as gr\n",
        "\n",
        "def model_response(human_text):\n",
        "\n",
        "    # Encodeamos\n",
        "    encoded = tok.texts_to_sequences([human_text])[0]\n",
        "    # Si tienen distinto largo\n",
        "    encoded = pad_sequences([encoded], maxlen=3, padding='pre')\n",
        "\n",
        "    # Predicción softmax\n",
        "    y_hat = model.predict(encoded).argmax(axis=-1)\n",
        "\n",
        "    # Debemos buscar en el vocabulario la palabra\n",
        "    # que corresopnde al indice (y_hat) predicho por le modelo\n",
        "    out_word = ''\n",
        "    for word, index in tok.word_index.items():\n",
        "        if index == y_hat:\n",
        "            out_word = word\n",
        "            break\n",
        "\n",
        "    # Agrego la palabra a la frase predicha\n",
        "    return human_text + ' ' + out_word\n",
        "\n",
        "iface = gr.Interface(\n",
        "    fn=model_response,\n",
        "    inputs=[\"textbox\"],\n",
        "    outputs=\"text\",\n",
        "    layout=\"vertical\")\n",
        "\n",
        "iface.launch(debug=True)"
      ]
    },
    {
      "cell_type": "markdown",
      "metadata": {
        "id": "mCeMWWupxN1-"
      },
      "source": [
        "### 6 - Generación de secuencias nuevas"
      ]
    },
    {
      "cell_type": "code",
      "execution_count": 55,
      "metadata": {
        "id": "bwbS_pfhxvB3"
      },
      "outputs": [],
      "source": [
        "def generate_seq(model, tokenizer, seed_text, max_length, n_words):\n",
        "    \"\"\"\n",
        "        Exec model sequence prediction\n",
        "\n",
        "        Args:\n",
        "            model (keras): modelo entrenado\n",
        "            tokenizer (keras tokenizer): tonenizer utilizado en el preprocesamiento\n",
        "            seed_text (string): texto de entrada (input_seq)\n",
        "            max_length (int): máxima longitud de la sequencia de entrada\n",
        "            n_words (int): números de palabras a agregar a la sequencia de entrada\n",
        "        returns:\n",
        "            output_text (string): sentencia con las \"n_words\" agregadas\n",
        "    \"\"\"\n",
        "    output_text = seed_text\n",
        "\t# generate a fixed number of words\n",
        "    for _ in range(n_words):\n",
        "\t\t# Encodeamos\n",
        "        encoded = tokenizer.texts_to_sequences([output_text])[0]\n",
        "\t\t# Si tienen distinto largo\n",
        "        encoded = pad_sequences([encoded], maxlen=max_length, padding='pre')\n",
        "\n",
        "\t\t# Predicción softmax\n",
        "        y_hat = model.predict(encoded).argmax(axis=-1)\n",
        "\t\t# Vamos concatenando las predicciones\n",
        "        out_word = ''\n",
        "\n",
        "        # Debemos buscar en el vocabulario la palabra\n",
        "        # que corresopnde al indice (y_hat) predicho por le modelo\n",
        "        for word, index in tokenizer.word_index.items():\n",
        "            if index == y_hat:\n",
        "                out_word = word\n",
        "                break\n",
        "\n",
        "\t\t# Agrego las palabras a la frase predicha\n",
        "        output_text += ' ' + out_word\n",
        "    return output_text"
      ]
    },
    {
      "cell_type": "code",
      "execution_count": 57,
      "metadata": {
        "id": "JoFqRC5pxzqS",
        "colab": {
          "base_uri": "https://localhost:8080/",
          "height": 72
        },
        "outputId": "8d880a1c-ff5f-4035-ef78-b75302e67fa5"
      },
      "outputs": [
        {
          "output_type": "stream",
          "name": "stdout",
          "text": [
            "1/1 [==============================] - 0s 28ms/step\n",
            "1/1 [==============================] - 0s 65ms/step\n"
          ]
        },
        {
          "output_type": "execute_result",
          "data": {
            "text/plain": [
              "'Te apuesto un  '"
            ],
            "application/vnd.google.colaboratory.intrinsic+json": {
              "type": "string"
            }
          },
          "metadata": {},
          "execution_count": 57
        }
      ],
      "source": [
        "input_text='Te apuesto un'\n",
        "\n",
        "generate_seq(model, tok, input_text, max_length=3, n_words=2)"
      ]
    },
    {
      "cell_type": "markdown",
      "metadata": {
        "id": "T2SHmXbgxQH9"
      },
      "source": [
        "### 7 - Conclusiones\n",
        "El modelo entrenado tuvo un muy mail desempeño en el entrenamiento además de overfitting, a pesar de que se intentó mejorar múltiples componentes del modelo\n"
      ]
    }
  ],
  "metadata": {
    "accelerator": "GPU",
    "colab": {
      "provenance": [],
      "include_colab_link": true
    },
    "kernelspec": {
      "display_name": "Python 3",
      "name": "python3"
    },
    "language_info": {
      "name": "python"
    }
  },
  "nbformat": 4,
  "nbformat_minor": 0
}